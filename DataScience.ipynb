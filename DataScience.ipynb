{
 "cells": [
  {
   "cell_type": "markdown",
   "id": "8a3a3559",
   "metadata": {},
   "source": [
    " # H1: Data Science Tools and Ecosystem"
   ]
  },
  {
   "cell_type": "markdown",
   "id": "157692e4",
   "metadata": {},
   "source": [
    "# In this Notebook,Data Science Tools and Ecosystem are summarized."
   ]
  },
  {
   "cell_type": "markdown",
   "id": "fbfc8dec",
   "metadata": {},
   "source": [
    "***Objectives:***\n",
    "\n",
    "- List popular languages that Data Scientist use.\n",
    "- List some commonly used libraries by Data Scientists.\n",
    "- List of Data Science tools"
   ]
  },
  {
   "cell_type": "markdown",
   "id": "e7c15766",
   "metadata": {},
   "source": [
    "***Some of the popular languages that Data Scientists use are:***\n",
    "1. SQL\n",
    "2. PYTHON\n",
    "3. R"
   ]
  },
  {
   "cell_type": "markdown",
   "id": "1a575915",
   "metadata": {},
   "source": [
    " ***Some of the commonly used libraries used by Data Scientist include:***\n",
    "1. NumPy\n",
    "2. Pandas\n",
    "3. PyTorch"
   ]
  },
  {
   "cell_type": "markdown",
   "id": "ecb59739",
   "metadata": {},
   "source": [
    "| Data Science Tools|\n",
    "|-------------------|\n",
    "| Apache Spark|\n",
    "| RStudio|\n",
    "| TensorFlow|"
   ]
  },
  {
   "cell_type": "markdown",
   "id": "aad2b777",
   "metadata": {},
   "source": [
    "### Below are a few examples of evaluating arithmentic expressions in Python\n"
   ]
  },
  {
   "cell_type": "code",
   "execution_count": 2,
   "id": "1e0b9b96",
   "metadata": {},
   "outputs": [
    {
     "name": "stdout",
     "output_type": "stream",
     "text": [
      "17\n"
     ]
    }
   ],
   "source": [
    "#This a simple arithmetic expression to mutiply then add integers.\n",
    "\n",
    "print((3*4)+5)"
   ]
  },
  {
   "cell_type": "code",
   "execution_count": 3,
   "id": "c34e453b",
   "metadata": {},
   "outputs": [
    {
     "name": "stdout",
     "output_type": "stream",
     "text": [
      "3.3333333333333335\n"
     ]
    }
   ],
   "source": [
    "#This will convert 200 minutes to hours by dividing 60\n",
    "\n",
    "print(200/60)"
   ]
  },
  {
   "cell_type": "markdown",
   "id": "ad0db83c",
   "metadata": {},
   "source": [
    "## Author - \n",
    "Rishav Awasthi"
   ]
  },
  {
   "cell_type": "code",
   "execution_count": null,
   "id": "13e0f9bb",
   "metadata": {},
   "outputs": [],
   "source": []
  }
 ],
 "metadata": {
  "kernelspec": {
   "display_name": "Python 3 (ipykernel)",
   "language": "python",
   "name": "python3"
  },
  "language_info": {
   "codemirror_mode": {
    "name": "ipython",
    "version": 3
   },
   "file_extension": ".py",
   "mimetype": "text/x-python",
   "name": "python",
   "nbconvert_exporter": "python",
   "pygments_lexer": "ipython3",
   "version": "3.11.4"
  }
 },
 "nbformat": 4,
 "nbformat_minor": 5
}
